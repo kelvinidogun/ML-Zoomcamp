{
 "cells": [
  {
   "cell_type": "code",
   "execution_count": 80,
   "id": "65011fa0",
   "metadata": {},
   "outputs": [],
   "source": [
    "import pandas as pd\n",
    "import numpy as np\n",
    "import matplotlib.pyplot as plt\n",
    "import seaborn as sns\n",
    "from sklearn.model_selection import train_test_split\n",
    "from sklearn.linear_model import LinearRegression, Ridge\n",
    "from sklearn.metrics import mean_squared_error"
   ]
  },
  {
   "cell_type": "code",
   "execution_count": 85,
   "id": "f9cc7cc2",
   "metadata": {},
   "outputs": [],
   "source": [
    "df = pd.read_csv('laptops.csv.1')"
   ]
  },
  {
   "cell_type": "code",
   "execution_count": 86,
   "id": "bac0f307",
   "metadata": {},
   "outputs": [
    {
     "data": {
      "text/html": [
       "<div>\n",
       "<style scoped>\n",
       "    .dataframe tbody tr th:only-of-type {\n",
       "        vertical-align: middle;\n",
       "    }\n",
       "\n",
       "    .dataframe tbody tr th {\n",
       "        vertical-align: top;\n",
       "    }\n",
       "\n",
       "    .dataframe thead th {\n",
       "        text-align: right;\n",
       "    }\n",
       "</style>\n",
       "<table border=\"1\" class=\"dataframe\">\n",
       "  <thead>\n",
       "    <tr style=\"text-align: right;\">\n",
       "      <th></th>\n",
       "      <th>Laptop</th>\n",
       "      <th>Status</th>\n",
       "      <th>Brand</th>\n",
       "      <th>Model</th>\n",
       "      <th>CPU</th>\n",
       "      <th>RAM</th>\n",
       "      <th>Storage</th>\n",
       "      <th>Storage type</th>\n",
       "      <th>GPU</th>\n",
       "      <th>Screen</th>\n",
       "      <th>Touch</th>\n",
       "      <th>Final Price</th>\n",
       "    </tr>\n",
       "  </thead>\n",
       "  <tbody>\n",
       "    <tr>\n",
       "      <th>0</th>\n",
       "      <td>ASUS ExpertBook B1 B1502CBA-EJ0436X Intel Core...</td>\n",
       "      <td>New</td>\n",
       "      <td>Asus</td>\n",
       "      <td>ExpertBook</td>\n",
       "      <td>Intel Core i5</td>\n",
       "      <td>8</td>\n",
       "      <td>512</td>\n",
       "      <td>SSD</td>\n",
       "      <td>NaN</td>\n",
       "      <td>15.6</td>\n",
       "      <td>No</td>\n",
       "      <td>1009.00</td>\n",
       "    </tr>\n",
       "    <tr>\n",
       "      <th>1</th>\n",
       "      <td>Alurin Go Start Intel Celeron N4020/8GB/256GB ...</td>\n",
       "      <td>New</td>\n",
       "      <td>Alurin</td>\n",
       "      <td>Go</td>\n",
       "      <td>Intel Celeron</td>\n",
       "      <td>8</td>\n",
       "      <td>256</td>\n",
       "      <td>SSD</td>\n",
       "      <td>NaN</td>\n",
       "      <td>15.6</td>\n",
       "      <td>No</td>\n",
       "      <td>299.00</td>\n",
       "    </tr>\n",
       "    <tr>\n",
       "      <th>2</th>\n",
       "      <td>ASUS ExpertBook B1 B1502CBA-EJ0424X Intel Core...</td>\n",
       "      <td>New</td>\n",
       "      <td>Asus</td>\n",
       "      <td>ExpertBook</td>\n",
       "      <td>Intel Core i3</td>\n",
       "      <td>8</td>\n",
       "      <td>256</td>\n",
       "      <td>SSD</td>\n",
       "      <td>NaN</td>\n",
       "      <td>15.6</td>\n",
       "      <td>No</td>\n",
       "      <td>789.00</td>\n",
       "    </tr>\n",
       "    <tr>\n",
       "      <th>3</th>\n",
       "      <td>MSI Katana GF66 12UC-082XES Intel Core i7-1270...</td>\n",
       "      <td>New</td>\n",
       "      <td>MSI</td>\n",
       "      <td>Katana</td>\n",
       "      <td>Intel Core i7</td>\n",
       "      <td>16</td>\n",
       "      <td>1000</td>\n",
       "      <td>SSD</td>\n",
       "      <td>RTX 3050</td>\n",
       "      <td>15.6</td>\n",
       "      <td>No</td>\n",
       "      <td>1199.00</td>\n",
       "    </tr>\n",
       "    <tr>\n",
       "      <th>4</th>\n",
       "      <td>HP 15S-FQ5085NS Intel Core i5-1235U/16GB/512GB...</td>\n",
       "      <td>New</td>\n",
       "      <td>HP</td>\n",
       "      <td>15S</td>\n",
       "      <td>Intel Core i5</td>\n",
       "      <td>16</td>\n",
       "      <td>512</td>\n",
       "      <td>SSD</td>\n",
       "      <td>NaN</td>\n",
       "      <td>15.6</td>\n",
       "      <td>No</td>\n",
       "      <td>669.01</td>\n",
       "    </tr>\n",
       "  </tbody>\n",
       "</table>\n",
       "</div>"
      ],
      "text/plain": [
       "                                              Laptop Status   Brand  \\\n",
       "0  ASUS ExpertBook B1 B1502CBA-EJ0436X Intel Core...    New    Asus   \n",
       "1  Alurin Go Start Intel Celeron N4020/8GB/256GB ...    New  Alurin   \n",
       "2  ASUS ExpertBook B1 B1502CBA-EJ0424X Intel Core...    New    Asus   \n",
       "3  MSI Katana GF66 12UC-082XES Intel Core i7-1270...    New     MSI   \n",
       "4  HP 15S-FQ5085NS Intel Core i5-1235U/16GB/512GB...    New      HP   \n",
       "\n",
       "        Model            CPU  RAM  Storage Storage type       GPU  Screen  \\\n",
       "0  ExpertBook  Intel Core i5    8      512          SSD       NaN    15.6   \n",
       "1          Go  Intel Celeron    8      256          SSD       NaN    15.6   \n",
       "2  ExpertBook  Intel Core i3    8      256          SSD       NaN    15.6   \n",
       "3      Katana  Intel Core i7   16     1000          SSD  RTX 3050    15.6   \n",
       "4         15S  Intel Core i5   16      512          SSD       NaN    15.6   \n",
       "\n",
       "  Touch  Final Price  \n",
       "0    No      1009.00  \n",
       "1    No       299.00  \n",
       "2    No       789.00  \n",
       "3    No      1199.00  \n",
       "4    No       669.01  "
      ]
     },
     "execution_count": 86,
     "metadata": {},
     "output_type": "execute_result"
    }
   ],
   "source": [
    "df.head()"
   ]
  },
  {
   "cell_type": "markdown",
   "id": "6e6bf525",
   "metadata": {},
   "source": [
    "## Normalize column names"
   ]
  },
  {
   "cell_type": "code",
   "execution_count": 87,
   "id": "ac05f757",
   "metadata": {},
   "outputs": [
    {
     "data": {
      "text/html": [
       "<div>\n",
       "<style scoped>\n",
       "    .dataframe tbody tr th:only-of-type {\n",
       "        vertical-align: middle;\n",
       "    }\n",
       "\n",
       "    .dataframe tbody tr th {\n",
       "        vertical-align: top;\n",
       "    }\n",
       "\n",
       "    .dataframe thead th {\n",
       "        text-align: right;\n",
       "    }\n",
       "</style>\n",
       "<table border=\"1\" class=\"dataframe\">\n",
       "  <thead>\n",
       "    <tr style=\"text-align: right;\">\n",
       "      <th></th>\n",
       "      <th>laptop</th>\n",
       "      <th>status</th>\n",
       "      <th>brand</th>\n",
       "      <th>model</th>\n",
       "      <th>cpu</th>\n",
       "      <th>ram</th>\n",
       "      <th>storage</th>\n",
       "      <th>storage_type</th>\n",
       "      <th>gpu</th>\n",
       "      <th>screen</th>\n",
       "      <th>touch</th>\n",
       "      <th>final_price</th>\n",
       "    </tr>\n",
       "  </thead>\n",
       "  <tbody>\n",
       "    <tr>\n",
       "      <th>0</th>\n",
       "      <td>ASUS ExpertBook B1 B1502CBA-EJ0436X Intel Core...</td>\n",
       "      <td>New</td>\n",
       "      <td>Asus</td>\n",
       "      <td>ExpertBook</td>\n",
       "      <td>Intel Core i5</td>\n",
       "      <td>8</td>\n",
       "      <td>512</td>\n",
       "      <td>SSD</td>\n",
       "      <td>NaN</td>\n",
       "      <td>15.6</td>\n",
       "      <td>No</td>\n",
       "      <td>1009.00</td>\n",
       "    </tr>\n",
       "    <tr>\n",
       "      <th>1</th>\n",
       "      <td>Alurin Go Start Intel Celeron N4020/8GB/256GB ...</td>\n",
       "      <td>New</td>\n",
       "      <td>Alurin</td>\n",
       "      <td>Go</td>\n",
       "      <td>Intel Celeron</td>\n",
       "      <td>8</td>\n",
       "      <td>256</td>\n",
       "      <td>SSD</td>\n",
       "      <td>NaN</td>\n",
       "      <td>15.6</td>\n",
       "      <td>No</td>\n",
       "      <td>299.00</td>\n",
       "    </tr>\n",
       "    <tr>\n",
       "      <th>2</th>\n",
       "      <td>ASUS ExpertBook B1 B1502CBA-EJ0424X Intel Core...</td>\n",
       "      <td>New</td>\n",
       "      <td>Asus</td>\n",
       "      <td>ExpertBook</td>\n",
       "      <td>Intel Core i3</td>\n",
       "      <td>8</td>\n",
       "      <td>256</td>\n",
       "      <td>SSD</td>\n",
       "      <td>NaN</td>\n",
       "      <td>15.6</td>\n",
       "      <td>No</td>\n",
       "      <td>789.00</td>\n",
       "    </tr>\n",
       "    <tr>\n",
       "      <th>3</th>\n",
       "      <td>MSI Katana GF66 12UC-082XES Intel Core i7-1270...</td>\n",
       "      <td>New</td>\n",
       "      <td>MSI</td>\n",
       "      <td>Katana</td>\n",
       "      <td>Intel Core i7</td>\n",
       "      <td>16</td>\n",
       "      <td>1000</td>\n",
       "      <td>SSD</td>\n",
       "      <td>RTX 3050</td>\n",
       "      <td>15.6</td>\n",
       "      <td>No</td>\n",
       "      <td>1199.00</td>\n",
       "    </tr>\n",
       "    <tr>\n",
       "      <th>4</th>\n",
       "      <td>HP 15S-FQ5085NS Intel Core i5-1235U/16GB/512GB...</td>\n",
       "      <td>New</td>\n",
       "      <td>HP</td>\n",
       "      <td>15S</td>\n",
       "      <td>Intel Core i5</td>\n",
       "      <td>16</td>\n",
       "      <td>512</td>\n",
       "      <td>SSD</td>\n",
       "      <td>NaN</td>\n",
       "      <td>15.6</td>\n",
       "      <td>No</td>\n",
       "      <td>669.01</td>\n",
       "    </tr>\n",
       "  </tbody>\n",
       "</table>\n",
       "</div>"
      ],
      "text/plain": [
       "                                              laptop status   brand  \\\n",
       "0  ASUS ExpertBook B1 B1502CBA-EJ0436X Intel Core...    New    Asus   \n",
       "1  Alurin Go Start Intel Celeron N4020/8GB/256GB ...    New  Alurin   \n",
       "2  ASUS ExpertBook B1 B1502CBA-EJ0424X Intel Core...    New    Asus   \n",
       "3  MSI Katana GF66 12UC-082XES Intel Core i7-1270...    New     MSI   \n",
       "4  HP 15S-FQ5085NS Intel Core i5-1235U/16GB/512GB...    New      HP   \n",
       "\n",
       "        model            cpu  ram  storage storage_type       gpu  screen  \\\n",
       "0  ExpertBook  Intel Core i5    8      512          SSD       NaN    15.6   \n",
       "1          Go  Intel Celeron    8      256          SSD       NaN    15.6   \n",
       "2  ExpertBook  Intel Core i3    8      256          SSD       NaN    15.6   \n",
       "3      Katana  Intel Core i7   16     1000          SSD  RTX 3050    15.6   \n",
       "4         15S  Intel Core i5   16      512          SSD       NaN    15.6   \n",
       "\n",
       "  touch  final_price  \n",
       "0    No      1009.00  \n",
       "1    No       299.00  \n",
       "2    No       789.00  \n",
       "3    No      1199.00  \n",
       "4    No       669.01  "
      ]
     },
     "execution_count": 87,
     "metadata": {},
     "output_type": "execute_result"
    }
   ],
   "source": [
    "df.columns = df.columns.str.lower().str.replace(' ', '_')\n",
    "df.head()"
   ]
  },
  {
   "cell_type": "markdown",
   "id": "1fd4c0bf",
   "metadata": {},
   "source": [
    "## Filter the dataset to use only the required columns: 'ram', 'storage', 'screen', 'final_price'"
   ]
  },
  {
   "cell_type": "code",
   "execution_count": 89,
   "id": "921ab86e",
   "metadata": {},
   "outputs": [
    {
     "data": {
      "text/html": [
       "<div>\n",
       "<style scoped>\n",
       "    .dataframe tbody tr th:only-of-type {\n",
       "        vertical-align: middle;\n",
       "    }\n",
       "\n",
       "    .dataframe tbody tr th {\n",
       "        vertical-align: top;\n",
       "    }\n",
       "\n",
       "    .dataframe thead th {\n",
       "        text-align: right;\n",
       "    }\n",
       "</style>\n",
       "<table border=\"1\" class=\"dataframe\">\n",
       "  <thead>\n",
       "    <tr style=\"text-align: right;\">\n",
       "      <th></th>\n",
       "      <th>ram</th>\n",
       "      <th>storage</th>\n",
       "      <th>screen</th>\n",
       "      <th>final_price</th>\n",
       "    </tr>\n",
       "  </thead>\n",
       "  <tbody>\n",
       "    <tr>\n",
       "      <th>0</th>\n",
       "      <td>8</td>\n",
       "      <td>512</td>\n",
       "      <td>15.6</td>\n",
       "      <td>1009.00</td>\n",
       "    </tr>\n",
       "    <tr>\n",
       "      <th>1</th>\n",
       "      <td>8</td>\n",
       "      <td>256</td>\n",
       "      <td>15.6</td>\n",
       "      <td>299.00</td>\n",
       "    </tr>\n",
       "    <tr>\n",
       "      <th>2</th>\n",
       "      <td>8</td>\n",
       "      <td>256</td>\n",
       "      <td>15.6</td>\n",
       "      <td>789.00</td>\n",
       "    </tr>\n",
       "    <tr>\n",
       "      <th>3</th>\n",
       "      <td>16</td>\n",
       "      <td>1000</td>\n",
       "      <td>15.6</td>\n",
       "      <td>1199.00</td>\n",
       "    </tr>\n",
       "    <tr>\n",
       "      <th>4</th>\n",
       "      <td>16</td>\n",
       "      <td>512</td>\n",
       "      <td>15.6</td>\n",
       "      <td>669.01</td>\n",
       "    </tr>\n",
       "  </tbody>\n",
       "</table>\n",
       "</div>"
      ],
      "text/plain": [
       "   ram  storage  screen  final_price\n",
       "0    8      512    15.6      1009.00\n",
       "1    8      256    15.6       299.00\n",
       "2    8      256    15.6       789.00\n",
       "3   16     1000    15.6      1199.00\n",
       "4   16      512    15.6       669.01"
      ]
     },
     "execution_count": 89,
     "metadata": {},
     "output_type": "execute_result"
    }
   ],
   "source": [
    "filtered_df = df[['ram', 'storage', 'screen', 'final_price']]\n",
    "filtered_df.head()"
   ]
  },
  {
   "cell_type": "markdown",
   "id": "2044ea7e",
   "metadata": {},
   "source": [
    "## EDA: Look at the final_price variable to determine if it has a long tail"
   ]
  },
  {
   "cell_type": "code",
   "execution_count": 90,
   "id": "f1d4b4c8",
   "metadata": {},
   "outputs": [
    {
     "data": {
      "image/png": "[encoded data removed]",
      "text/plain": [
       "<Figure size 432x288 with 1 Axes>"
      ]
     },
     "metadata": {
      "needs_background": "light"
     },
     "output_type": "display_data"
    }
   ],
   "source": [
    "plt.hist(df['final_price'], bins=30, edgecolor='black')\n",
    "plt.xlabel('Final Price')\n",
    "plt.ylabel('Frequency')\n",
    "plt.title('Distribution of Final Price')\n",
    "plt.show()"
   ]
  },
  {
   "cell_type": "markdown",
   "id": "95ebc51a",
   "metadata": {},
   "source": [
    "## Question 1: Identify which column has missing values"
   ]
  },
  {
   "cell_type": "code",
   "execution_count": 91,
   "id": "3e86b396",
   "metadata": {},
   "outputs": [
    {
     "name": "stdout",
     "output_type": "stream",
     "text": [
      "Column with missing values: screen\n"
     ]
    }
   ],
   "source": [
    "missing_columns = filtered_df.isna().sum()\n",
    "missing_column_name = missing_columns[missing_columns > 0].index[0] if any(missing_columns > 0) else None\n",
    "print(f\"Column with missing values: {missing_column_name}\")"
   ]
  },
  {
   "cell_type": "code",
   "execution_count": 92,
   "id": "57270b52",
   "metadata": {},
   "outputs": [
    {
     "data": {
      "text/plain": [
       "ram            0\n",
       "storage        0\n",
       "screen         4\n",
       "final_price    0\n",
       "dtype: int64"
      ]
     },
     "execution_count": 92,
     "metadata": {},
     "output_type": "execute_result"
    }
   ],
   "source": [
    "missing_columns"
   ]
  },
  {
   "cell_type": "markdown",
   "id": "89a1703d",
   "metadata": {},
   "source": [
    "## Question 2: Calculate the median value for 'ram'"
   ]
  },
  {
   "cell_type": "code",
   "execution_count": 93,
   "id": "749bc3ba",
   "metadata": {},
   "outputs": [
    {
     "name": "stdout",
     "output_type": "stream",
     "text": [
      "Median value for 'ram': 16.0\n"
     ]
    }
   ],
   "source": [
    "ram_median = filtered_df['ram'].median()\n",
    "print(f\"Median value for 'ram': {ram_median}\")"
   ]
  },
  {
   "cell_type": "markdown",
   "id": "d5637795",
   "metadata": {},
   "source": [
    "## Shuffle the dataset and split it into train/val/test sets (60%/20%/20%) with seed 42"
   ]
  },
  {
   "cell_type": "code",
   "execution_count": 94,
   "id": "fcc49e5c",
   "metadata": {},
   "outputs": [],
   "source": [
    "# Shuffle the dataset and split it into train/validation/test sets with 60%/20%/20% distribution\n",
    "filtered_df_shuffled = filtered_df.sample(frac=1, random_state=42)\n",
    "\n",
    "train_full, test = train_test_split(filtered_df_shuffled, test_size=0.2, random_state=42)\n",
    "train, val = train_test_split(train_full, test_size=0.25, random_state=42)  # 0.25 * 0.8 = 0.2"
   ]
  },
  {
   "cell_type": "markdown",
   "id": "ece98934",
   "metadata": {},
   "source": [
    "## Option 1: Fill missing values with 0"
   ]
  },
  {
   "cell_type": "code",
   "execution_count": 95,
   "id": "9bef0d4f",
   "metadata": {},
   "outputs": [],
   "source": [
    "# Fill missing values in 'screen' column with 0 (first option)\n",
    "train_0 = train.fillna({'screen': 0})\n",
    "val_0 = val.fillna({'screen': 0})\n",
    "\n",
    "# Train linear regression model without regularization\n",
    "X_train_0 = train_0[['ram', 'storage', 'screen']]\n",
    "y_train_0 = train_0['final_price']\n",
    "X_val_0 = val_0[['ram', 'storage', 'screen']]\n",
    "y_val_0 = val_0['final_price']\n",
    "\n",
    "model_0 = LinearRegression()\n",
    "model_0.fit(X_train_0, y_train_0)\n",
    "\n",
    "# Predict and calculate RMSE for the model with missing values filled with 0\n",
    "y_pred_0 = model_0.predict(X_val_0)\n",
    "rmse_0 = round(mean_squared_error(y_val_0, y_pred_0, squared=False), 2)"
   ]
  },
  {
   "cell_type": "markdown",
   "id": "32e53d2b",
   "metadata": {},
   "source": [
    "## Option 2: Fill missing values with the mean (computed from training set)"
   ]
  },
  {
   "cell_type": "code",
   "execution_count": 98,
   "id": "7b095d9b",
   "metadata": {},
   "outputs": [],
   "source": [
    "# Fill missing values in 'screen' column with the mean (second option)\n",
    "screen_mean = train['screen'].mean()\n",
    "train_mean = train.fillna({'screen': screen_mean})\n",
    "val_mean = val.fillna({'screen': screen_mean})\n",
    "\n",
    "# Train linear regression model without regularization\n",
    "X_train_mean = train_mean[['ram', 'storage', 'screen']]\n",
    "y_train_mean = train_mean['final_price']\n",
    "X_val_mean = val_mean[['ram', 'storage', 'screen']]\n",
    "y_val_mean = val_mean['final_price']\n",
    "\n",
    "model_mean = LinearRegression()\n",
    "model_mean.fit(X_train_mean, y_train_mean)\n",
    "\n",
    "# Predict and calculate RMSE for the model with missing values filled with the mean\n",
    "y_pred_mean = model_mean.predict(X_val_mean)\n",
    "rmse_mean = round(mean_squared_error(y_val_mean, y_pred_mean, squared=False), 2)"
   ]
  },
  {
   "cell_type": "markdown",
   "id": "48ae20e0",
   "metadata": {},
   "source": [
    "## Compare RMSE"
   ]
  },
  {
   "cell_type": "code",
   "execution_count": 99,
   "id": "66ac5c57",
   "metadata": {},
   "outputs": [
    {
     "name": "stdout",
     "output_type": "stream",
     "text": [
      "RMSE with 0: 615.61\n",
      "RMSE with mean: 617.13\n"
     ]
    }
   ],
   "source": [
    "print(f\"RMSE with 0: {rmse_zero}\")\n",
    "print(f\"RMSE with mean: {rmse_mean}\")"
   ]
  },
  {
   "cell_type": "markdown",
   "id": "64f3ca57",
   "metadata": {},
   "source": [
    "## Regularized linear regression with Ridge"
   ]
  },
  {
   "cell_type": "code",
   "execution_count": 103,
   "id": "5f0f1a8a",
   "metadata": {},
   "outputs": [
    {
     "data": {
      "text/plain": [
       "(0, 616.83)"
      ]
     },
     "execution_count": 103,
     "metadata": {},
     "output_type": "execute_result"
    }
   ],
   "source": [
    "# List of regularization parameter values to try\n",
    "r_values = [0, 0.01, 0.1, 1, 5, 10, 100]\n",
    "\n",
    "# Fill missing values in 'screen' column with 0 for all sets\n",
    "train_filled = train.fillna({'screen': 0})\n",
    "val_filled = val.fillna({'screen': 0})\n",
    "\n",
    "X_train = train_filled[['ram', 'storage', 'screen']]\n",
    "y_train = train_filled['final_price']\n",
    "X_val = val_filled[['ram', 'storage', 'screen']]\n",
    "y_val = val_filled['final_price']\n",
    "\n",
    "# Train and evaluate models with different values of r\n",
    "best_rmse = float('inf')\n",
    "best_r = None\n",
    "\n",
    "for r in r_values:\n",
    "    model = Ridge(alpha=r)\n",
    "    model.fit(X_train, y_train)\n",
    "    y_pred = model.predict(X_val)\n",
    "    rmse = round(mean_squared_error(y_val, y_pred, squared=False), 2)\n",
    "    \n",
    "    if rmse < best_rmse:\n",
    "        best_rmse = rmse\n",
    "        best_r = r\n",
    "best_r, best_rmse"
   ]
  },
  {
   "cell_type": "markdown",
   "id": "2bb23686",
   "metadata": {},
   "source": [
    "## Influence of seed on score stability"
   ]
  },
  {
   "cell_type": "code",
   "execution_count": 106,
   "id": "47f3dc7e",
   "metadata": {},
   "outputs": [
    {
     "data": {
      "text/plain": [
       "25.271"
      ]
     },
     "execution_count": 106,
     "metadata": {},
     "output_type": "execute_result"
    }
   ],
   "source": [
    "# List of seed values to try\n",
    "seed_values = [0, 1, 2, 3, 4, 5, 6, 7, 8, 9]\n",
    "rmse_scores = []\n",
    "\n",
    "# Loop over each seed value, split the data, train the model, and calculate RMSE\n",
    "for seed in seed_values:\n",
    "    # Split data with the current seed\n",
    "    train_full, test = train_test_split(filtered_df_shuffled, test_size=0.2, random_state=seed)\n",
    "    train, val = train_test_split(train_full, test_size=0.25, random_state=seed)\n",
    "\n",
    "    # Fill missing values in 'screen' column with 0\n",
    "    train_filled = train.fillna({'screen': 0})\n",
    "    val_filled = val.fillna({'screen': 0})\n",
    "\n",
    "    # Prepare train and validation sets\n",
    "    X_train = train_filled[['ram', 'storage', 'screen']]\n",
    "    y_train = train_filled['final_price']\n",
    "    X_val = val_filled[['ram', 'storage', 'screen']]\n",
    "    y_val = val_filled['final_price']\n",
    "\n",
    "    # Train the model without regularization\n",
    "    model = LinearRegression()\n",
    "    model.fit(X_train, y_train)\n",
    "    \n",
    "    # Predict and calculate RMSE\n",
    "    y_pred = model.predict(X_val)\n",
    "    rmse = mean_squared_error(y_val, y_pred, squared=False)\n",
    "    rmse_scores.append(rmse)\n",
    "\n",
    "# Calculate the standard deviation of RMSE scores\n",
    "rmse_std = round(np.std(rmse_scores), 3)\n",
    "rmse_std"
   ]
  },
  {
   "cell_type": "markdown",
   "id": "e3cecf4d",
   "metadata": {},
   "source": [
    "## Train with combined train and validation datasets, use r=0.001"
   ]
  },
  {
   "cell_type": "code",
   "execution_count": 107,
   "id": "93706b83",
   "metadata": {},
   "outputs": [
    {
     "data": {
      "text/plain": [
       "(616.83, 617.13, 0, 616.83, 25.271, 549.95)"
      ]
     },
     "execution_count": 107,
     "metadata": {},
     "output_type": "execute_result"
    }
   ],
   "source": [
    "# Split the dataset using seed 9\n",
    "train_full, test = train_test_split(filtered_df_shuffled, test_size=0.2, random_state=9)\n",
    "train, val = train_test_split(train_full, test_size=0.25, random_state=9)\n",
    "\n",
    "# Combine train and validation datasets\n",
    "train_val = pd.concat([train, val])\n",
    "\n",
    "# Fill missing values in 'screen' column with 0\n",
    "train_val_filled = train_val.fillna({'screen': 0})\n",
    "test_filled = test.fillna({'screen': 0})\n",
    "\n",
    "# Prepare train/validation and test sets\n",
    "X_train_val = train_val_filled[['ram', 'storage', 'screen']]\n",
    "y_train_val = train_val_filled['final_price']\n",
    "X_test = test_filled[['ram', 'storage', 'screen']]\n",
    "y_test = test_filled['final_price']\n",
    "\n",
    "# Train the model with r=0.001 (Ridge regression)\n",
    "model = Ridge(alpha=0.001)\n",
    "model.fit(X_train_val, y_train_val)\n",
    "\n",
    "# Predict and calculate RMSE on the test dataset\n",
    "y_pred_test = model.predict(X_test)\n",
    "rmse_test = round(mean_squared_error(y_test, y_pred_test, squared=False), 2)\n",
    "\n",
    "# Output results\n",
    "rmse_0, rmse_mean, best_r, best_rmse, rmse_std, rmse_test"
   ]
  },
  {
   "cell_type": "code",
   "execution_count": null,
   "id": "8f186e92",
   "metadata": {},
   "outputs": [],
   "source": []
  },
  {
   "cell_type": "code",
   "execution_count": null,
   "id": "337f4f98",
   "metadata": {},
   "outputs": [],
   "source": []
  }
 ],
 "metadata": {
  "kernelspec": {
   "display_name": "Python 3 (ipykernel)",
   "language": "python",
   "name": "python3"
  },
  "language_info": {
   "codemirror_mode": {
    "name": "ipython",
    "version": 3
   },
   "file_extension": ".py",
   "mimetype": "text/x-python",
   "name": "python",
   "nbconvert_exporter": "python",
   "pygments_lexer": "ipython3",
   "version": "3.10.0"
  }
 },
 "nbformat": 4,
 "nbformat_minor": 5
}
